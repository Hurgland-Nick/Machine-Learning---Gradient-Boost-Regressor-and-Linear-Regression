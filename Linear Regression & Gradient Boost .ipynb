{
 "cells": [
  {
   "cell_type": "markdown",
   "metadata": {},
   "source": [
    "                                                                                               Hurgland-Nick KELIET"
   ]
  },
  {
   "cell_type": "markdown",
   "metadata": {},
   "source": [
    "### Skills added :  \n",
    " >- Machine Learning \n",
    " >- Generation of a Dataset\n",
    " >- SGDRegressor (SKlearn)\n",
    " >- LinearRegression (SKlearn)\n",
    " >- Gradient Boosting Regressor\n",
    " >- Learning curve"
   ]
  },
  {
   "cell_type": "markdown",
   "metadata": {},
   "source": [
    "                                        REGRESSION LINEAIRE AVEC NUMPY"
   ]
  },
  {
   "cell_type": "markdown",
   "metadata": {},
   "source": [
    "# Chargement des librairies"
   ]
  },
  {
   "cell_type": "code",
   "execution_count": 1,
   "metadata": {},
   "outputs": [],
   "source": [
    "# Numpy\n",
    "import numpy as np\n",
    "\n",
    "# Générer un data set avec des valeur aléatoires\n",
    "from sklearn.datasets import make_regression\n",
    "\n",
    "#Créer des graphes et visualiser nos données avec Matplotlib \n",
    "# Affiche la bibliothèque graphique intégré à Notebook\n",
    "import matplotlib.pyplot as plt\n",
    "%matplotlib inline\n",
    "\n",
    "import seaborn as sns\n",
    "sns.set()\n",
    "\n",
    "# Stochastic Gradient Descent Regressor, qui calcule:\n",
    "# La fonction Coût, des gradients et l'algo de minimisation\n",
    "from sklearn.linear_model import SGDRegressor, LinearRegression\n",
    "\n",
    "import warnings\n",
    "warnings.filterwarnings(\"ignore\")"
   ]
  },
  {
   "cell_type": "markdown",
   "metadata": {},
   "source": [
    "# Génération d'un Dataset"
   ]
  },
  {
   "cell_type": "markdown",
   "metadata": {},
   "source": [
    "- dataset : (x,y) avec *m* exemples, n variables"
   ]
  },
  {
   "cell_type": "code",
   "execution_count": 2,
   "metadata": {},
   "outputs": [],
   "source": [
    "# Make_regression nous permet de générer des données 2 tableaux que on va nommée x et y\n",
    "# (nombre de tableau) = make_regression(nombre d'échantillons, nombre de features ou var dépendantes et bruit)\n",
    "x,y = make_regression(n_samples = 100,n_features = 1, noise = 10)"
   ]
  },
  {
   "cell_type": "markdown",
   "metadata": {},
   "source": [
    "- observation du dataset"
   ]
  },
  {
   "cell_type": "markdown",
   "metadata": {},
   "source": [
    "# Implémentation du modèle linéaire\n",
    " - Observation du dataset"
   ]
  },
  {
   "cell_type": "code",
   "execution_count": 3,
   "metadata": {},
   "outputs": [
    {
     "data": {
      "text/plain": [
       "<matplotlib.collections.PathCollection at 0x139d7f72588>"
      ]
     },
     "execution_count": 3,
     "metadata": {},
     "output_type": "execute_result"
    },
    {
     "data": {
      "image/png": "[encoded data removed]",
      "text/plain": [
       "<Figure size 432x288 with 1 Axes>"
      ]
     },
     "metadata": {
      "needs_background": "light"
     },
     "output_type": "display_data"
    }
   ],
   "source": [
    "# plt.scatter(abscisse, ordonées)\n",
    "plt.scatter(x,y)"
   ]
  },
  {
   "cell_type": "markdown",
   "metadata": {},
   "source": [
    "# Méthode 1 : ------------------------------  Avec SGDRegressor  ------------------------------"
   ]
  },
  {
   "cell_type": "markdown",
   "metadata": {},
   "source": [
    "### Train models "
   ]
  },
  {
   "cell_type": "code",
   "execution_count": 4,
   "metadata": {},
   "outputs": [
    {
     "data": {
      "text/plain": [
       "SGDRegressor(alpha=0.0001, average=False, early_stopping=False, epsilon=0.1,\n",
       "       eta0=0.01, fit_intercept=True, l1_ratio=0.15,\n",
       "       learning_rate='invscaling', loss='squared_loss', max_iter=100,\n",
       "       n_iter=None, n_iter_no_change=5, penalty='l2', power_t=0.25,\n",
       "       random_state=None, shuffle=True, tol=None, validation_fraction=0.1,\n",
       "       verbose=0, warm_start=False)"
      ]
     },
     "execution_count": 4,
     "metadata": {},
     "output_type": "execute_result"
    }
   ],
   "source": [
    "# Entrainons notre model\n",
    "model = SGDRegressor(max_iter= 100, eta0=0.01)\n",
    "model.fit(x,y)"
   ]
  },
  {
   "cell_type": "markdown",
   "metadata": {},
   "source": [
    "### Machine Learning et Coefficient de détermination\n",
    "\n",
    "- Evaluer la performance de notre modèle en utilisant le coefficient de détermination\n",
    "    - Plus il est proche de 1, plus il rentre bien dans notre point"
   ]
  },
  {
   "cell_type": "code",
   "execution_count": 5,
   "metadata": {},
   "outputs": [
    {
     "name": "stdout",
     "output_type": "stream",
     "text": [
      "Coeff R2 : 0.9078015585159241\n",
      "Interception : [-0.52336255]\n"
     ]
    },
    {
     "data": {
      "text/plain": [
       "[<matplotlib.lines.Line2D at 0x139d7fc7978>]"
      ]
     },
     "execution_count": 5,
     "metadata": {},
     "output_type": "execute_result"
    },
    {
     "data": {
      "image/png": "[encoded data removed]",
      "text/plain": [
       "<Figure size 432x288 with 1 Axes>"
      ]
     },
     "metadata": {
      "needs_background": "light"
     },
     "output_type": "display_data"
    }
   ],
   "source": [
    "# Observons la précision de notre modèle en observons la précision de notre modèle\n",
    "print(\"Coeff R2 :\", model.score(x,y))\n",
    "\n",
    "# L'ordonnée à l'origine\n",
    "print(\"Interception :\", model.intercept_)\n",
    "\n",
    "# Notre Graphe\n",
    "plt.scatter(x,y)\n",
    "\n",
    "#Notre graphe\n",
    "plt.plot(x,model.predict(x), c='red', lw=3)\n",
    "\n",
    "# !!!!!! Résulat catastrophique que nous devons régler\n",
    "# Repartons entrainer le model en Changeons le Learning Rate à 0.01 qui marche le mieux"
   ]
  },
  {
   "cell_type": "markdown",
   "metadata": {},
   "source": [
    "# Méthode 2 : ----------------------------  Avec LinearRegression  ----------------------------"
   ]
  },
  {
   "cell_type": "markdown",
   "metadata": {},
   "source": [
    "### Train model"
   ]
  },
  {
   "cell_type": "code",
   "execution_count": 6,
   "metadata": {},
   "outputs": [
    {
     "data": {
      "text/plain": [
       "LinearRegression(copy_X=True, fit_intercept=True, n_jobs=None,\n",
       "         normalize=False)"
      ]
     },
     "execution_count": 6,
     "metadata": {},
     "output_type": "execute_result"
    }
   ],
   "source": [
    "# Initialize Linear Regression to a variable Linear\n",
    "linear = LinearRegression()\n",
    "\n",
    "# Entrainons notre model\n",
    "linear.fit(x,y)"
   ]
  },
  {
   "cell_type": "markdown",
   "metadata": {},
   "source": [
    "### Coefficient de détermination et Interception"
   ]
  },
  {
   "cell_type": "code",
   "execution_count": 7,
   "metadata": {},
   "outputs": [
    {
     "name": "stdout",
     "output_type": "stream",
     "text": [
      "Score R2 : 0.9078016908066848\n",
      "Interception : -0.5291018619176118\n"
     ]
    }
   ],
   "source": [
    "print(\"Score R2 :\", linear.score(x,y))\n",
    "print(\"Interception :\", linear.intercept_)"
   ]
  },
  {
   "cell_type": "markdown",
   "metadata": {},
   "source": [
    "### Graphe et Prédiction de notre modèle"
   ]
  },
  {
   "cell_type": "code",
   "execution_count": 8,
   "metadata": {},
   "outputs": [
    {
     "data": {
      "text/plain": [
       "[<matplotlib.lines.Line2D at 0x139d8054080>]"
      ]
     },
     "execution_count": 8,
     "metadata": {},
     "output_type": "execute_result"
    },
    {
     "data": {
      "image/png": "[encoded data removed]",
      "text/plain": [
       "<Figure size 432x288 with 1 Axes>"
      ]
     },
     "metadata": {
      "needs_background": "light"
     },
     "output_type": "display_data"
    }
   ],
   "source": [
    "plt.scatter(x,y)\n",
    "plt.plot(x,model.predict(x), c='r', lw=3)"
   ]
  },
  {
   "cell_type": "markdown",
   "metadata": {},
   "source": [
    "## Conclusion "
   ]
  },
  {
   "cell_type": "markdown",
   "metadata": {},
   "source": [
    "- The accuracy of the model is lower than our aim of 85. So how do we achieve that 85% target ?\n",
    "    - No it's ok for our model because is upper than our aim of 85. we have 93% !!! So don't need to use gradient boosting regression"
   ]
  },
  {
   "cell_type": "markdown",
   "metadata": {},
   "source": [
    "# If the model wasn't upper than our aim:"
   ]
  },
  {
   "cell_type": "markdown",
   "metadata": {},
   "source": [
    "# Gradient Boosting Regressor"
   ]
  },
  {
   "cell_type": "code",
   "execution_count": 9,
   "metadata": {
    "scrolled": true
   },
   "outputs": [],
   "source": [
    "# Importation de la librairie Sklearn Gradient Boost\n",
    "from sklearn import ensemble\n",
    "\n",
    "# variable where we define our gradient boosting regressor and set parameters to it , here\n",
    "# Fit regression model\n",
    "params = {'n_estimators': 400, 'max_depth': 5, 'min_samples_split': 2,\n",
    "          'learning_rate': 0.1, 'loss': 'ls'}\n",
    "clf = ensemble.GradientBoostingRegressor(**params)\n",
    "\n",
    "# NB: n_estimator — The number of boosting stages to perform. We should not set it too high which would overfit our model"
   ]
  },
  {
   "cell_type": "code",
   "execution_count": 10,
   "metadata": {},
   "outputs": [
    {
     "data": {
      "text/plain": [
       "GradientBoostingRegressor(alpha=0.9, criterion='friedman_mse', init=None,\n",
       "             learning_rate=0.1, loss='ls', max_depth=5, max_features=None,\n",
       "             max_leaf_nodes=None, min_impurity_decrease=0.0,\n",
       "             min_impurity_split=None, min_samples_leaf=1,\n",
       "             min_samples_split=2, min_weight_fraction_leaf=0.0,\n",
       "             n_estimators=400, n_iter_no_change=None, presort='auto',\n",
       "             random_state=None, subsample=1.0, tol=0.0001,\n",
       "             validation_fraction=0.1, verbose=0, warm_start=False)"
      ]
     },
     "execution_count": 10,
     "metadata": {},
     "output_type": "execute_result"
    }
   ],
   "source": [
    "# Affectons nous variable x et y à x_train et y_train\n",
    "x_train = x\n",
    "y_train = y \n",
    "\n",
    "# Entrainons notre modèle avec le Gradient boost\n",
    "clf.fit(x_train, y_train)"
   ]
  },
  {
   "cell_type": "code",
   "execution_count": 11,
   "metadata": {
    "scrolled": true
   },
   "outputs": [
    {
     "name": "stdout",
     "output_type": "stream",
     "text": [
      "Score R2 =  0.9999994950089405\n"
     ]
    }
   ],
   "source": [
    "# Evaluons notre modèle Rsquare\n",
    "print(\"Score R2 = \", clf.score(x_train,y_train))\n",
    "y_pred = model.predict(x)"
   ]
  },
  {
   "cell_type": "markdown",
   "metadata": {},
   "source": [
    " - R2 =  Notre modèle décrit 99 % des variations du prix de y "
   ]
  },
  {
   "cell_type": "code",
   "execution_count": 12,
   "metadata": {},
   "outputs": [
    {
     "name": "stdout",
     "output_type": "stream",
     "text": [
      " Mean square error est 0.0006:\n"
     ]
    }
   ],
   "source": [
    "# Importons les métriques\n",
    "from sklearn.metrics import mean_squared_error,r2_score\n",
    "\n",
    "# Mean Square Error\n",
    "mse = mean_squared_error(y, clf.predict(x_train))\n",
    "print(\" Mean square error est %.4f:\" % mse)\n",
    "\n",
    "\n",
    "# compute test set deviance\n",
    "t_sc = np.zeros((params['n_estimators']),dtype = np.float64)"
   ]
  },
  {
   "cell_type": "code",
   "execution_count": 13,
   "metadata": {},
   "outputs": [],
   "source": [
    "for i,y_pred in enumerate(clf.staged_predict(x)):\n",
    "    t_sc[i]=clf.loss_(y,y_pred)"
   ]
  },
  {
   "cell_type": "code",
   "execution_count": 14,
   "metadata": {},
   "outputs": [],
   "source": [
    "testsc = np.arange((params['n_estimators']))+1"
   ]
  },
  {
   "cell_type": "markdown",
   "metadata": {},
   "source": [
    "# Courbe d'apprentissage\n",
    "- Vérifier si la machine réussit à bien apprendre"
   ]
  },
  {
   "cell_type": "code",
   "execution_count": 15,
   "metadata": {
    "scrolled": false
   },
   "outputs": [
    {
     "data": {
      "text/plain": [
       "Text(0, 0.5, 'Deviance')"
      ]
     },
     "execution_count": 15,
     "metadata": {},
     "output_type": "execute_result"
    },
    {
     "data": {
      "image/png": "[encoded data removed]",
      "text/plain": [
       "<Figure size 1080x288 with 1 Axes>"
      ]
     },
     "metadata": {
      "needs_background": "light"
     },
     "output_type": "display_data"
    }
   ],
   "source": [
    "plt.figure(figsize=(15, 4))\n",
    "plt.subplot(1, 2, 1)\n",
    "plt.title('Deviance')\n",
    "plt.plot(testsc,clf.train_score_,'b-',label= 'Set dev train')\n",
    "plt.plot(testsc,t_sc,'r-',label = 'set dev test')\n",
    "plt.legend(loc='upper right')\n",
    "plt.xlabel('Boosting Iterations')\n",
    "plt.ylabel('Deviance')\n"
   ]
  },
  {
   "cell_type": "markdown",
   "metadata": {},
   "source": [
    "                                                                                                                    FIN"
   ]
  }
 ],
 "metadata": {
  "kernelspec": {
   "display_name": "Python 3",
   "language": "python",
   "name": "python3"
  },
  "language_info": {
   "codemirror_mode": {
    "name": "ipython",
    "version": 3
   },
   "file_extension": ".py",
   "mimetype": "text/x-python",
   "name": "python",
   "nbconvert_exporter": "python",
   "pygments_lexer": "ipython3",
   "version": "3.6.9"
  }
 },
 "nbformat": 4,
 "nbformat_minor": 2
}
